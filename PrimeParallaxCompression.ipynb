{
 "cells": [
  {
   "cell_type": "code",
   "execution_count": 1,
   "metadata": {},
   "outputs": [],
   "source": [
    "import numpy as np\n",
    "import matplotlib.pyplot as plt\n",
    "%matplotlib inline"
   ]
  },
  {
   "cell_type": "code",
   "execution_count": 6,
   "metadata": {},
   "outputs": [],
   "source": [
    "def isPrime(n):\n",
    "    for i in range(2,np.int(np.sqrt(n))):\n",
    "        if (n%i==0):\n",
    "            return False\n",
    "    return n != 1"
   ]
  },
  {
   "cell_type": "code",
   "execution_count": 52,
   "metadata": {},
   "outputs": [],
   "source": [
    "def hasPrimes(interval):\n",
    "    for x in interval:\n",
    "        if isPrime(x):\n",
    "            return 1\n",
    "    return 0"
   ]
  },
  {
   "cell_type": "code",
   "execution_count": 149,
   "metadata": {},
   "outputs": [],
   "source": [
    "delta = 100\n",
    "nrow = 100"
   ]
  },
  {
   "cell_type": "code",
   "execution_count": 150,
   "metadata": {
    "scrolled": false
   },
   "outputs": [],
   "source": [
    "start = 1\n",
    "end = start + delta\n",
    "matrix = np.array(np.zeros((1,nrow)))\n",
    "for i in range(1,nrow + 1):\n",
    "    intervals = np.transpose(np.arange(start,end).reshape(delta,i))\n",
    "    start = start + delta *i\n",
    "    end = start + delta *(i+1)\n",
    "    partialRow = [hasPrimes(interval) for interval in intervals]\n",
    "    matrix = np.vstack([matrix, np.pad(partialRow,(0,nrow-i),'constant')])"
   ]
  },
  {
   "cell_type": "code",
   "execution_count": 151,
   "metadata": {},
   "outputs": [
    {
     "name": "stdout",
     "output_type": "stream",
     "text": [
      "[[ 0.  0.  0. ...,  0.  0.  0.]\n",
      " [ 1.  0.  0. ...,  0.  0.  0.]\n",
      " [ 1.  0.  0. ...,  0.  0.  0.]\n",
      " ..., \n",
      " [ 1.  0.  1. ...,  0.  0.  0.]\n",
      " [ 1.  1.  0. ...,  1.  0.  0.]\n",
      " [ 1.  0.  1. ...,  0.  1.  0.]]\n"
     ]
    }
   ],
   "source": [
    "print matrix"
   ]
  },
  {
   "cell_type": "code",
   "execution_count": 152,
   "metadata": {},
   "outputs": [
    {
     "data": {
      "image/png": "[encoded data removed]",
      "text/plain": [
       "<matplotlib.figure.Figure at 0x1187bb410>"
      ]
     },
     "metadata": {},
     "output_type": "display_data"
    }
   ],
   "source": [
    "plt.figure(figsize=(9,9))\n",
    "plt.imshow(matrix)\n",
    "plt.show()"
   ]
  },
  {
   "cell_type": "code",
   "execution_count": 171,
   "metadata": {},
   "outputs": [],
   "source": [
    "delta = 150\n",
    "nrow = 100"
   ]
  },
  {
   "cell_type": "code",
   "execution_count": 172,
   "metadata": {},
   "outputs": [],
   "source": [
    "start = 1\n",
    "end = start + delta\n",
    "matrix = np.array(np.zeros((nrow,nrow)))\n",
    "for i in range(1,nrow + 1):\n",
    "    intervals = np.transpose(np.arange(start,end).reshape(delta,i))\n",
    "    start = start + delta *i\n",
    "    end = start + delta *(i+1)\n",
    "    diagRow = [hasPrimes(interval) for interval in intervals]\n",
    "    s = len(diagRow)\n",
    "    for pos, j in enumerate(diagRow):\n",
    "       matrix[pos,s-pos-1]=j "
   ]
  },
  {
   "cell_type": "code",
   "execution_count": 173,
   "metadata": {},
   "outputs": [
    {
     "data": {
      "image/png": "[encoded data removed]",
      "text/plain": [
       "<matplotlib.figure.Figure at 0x119428ad0>"
      ]
     },
     "metadata": {},
     "output_type": "display_data"
    }
   ],
   "source": [
    "plt.figure(figsize=(9,9))\n",
    "plt.imshow(matrix)\n",
    "plt.show()"
   ]
  },
  {
   "cell_type": "code",
   "execution_count": null,
   "metadata": {},
   "outputs": [],
   "source": []
  }
 ],
 "metadata": {
  "kernelspec": {
   "display_name": "Python 2",
   "language": "python",
   "name": "python2"
  },
  "language_info": {
   "codemirror_mode": {
    "name": "ipython",
    "version": 2
   },
   "file_extension": ".py",
   "mimetype": "text/x-python",
   "name": "python",
   "nbconvert_exporter": "python",
   "pygments_lexer": "ipython2",
   "version": "2.7.13"
  }
 },
 "nbformat": 4,
 "nbformat_minor": 2
}
